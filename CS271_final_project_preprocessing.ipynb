{
  "nbformat": 4,
  "nbformat_minor": 0,
  "metadata": {
    "colab": {
      "provenance": [],
      "gpuType": "T4",
      "authorship_tag": "ABX9TyNqbb/c7aryMnk4MGMYUxFs",
      "include_colab_link": true
    },
    "kernelspec": {
      "name": "python3",
      "display_name": "Python 3"
    },
    "language_info": {
      "name": "python"
    }
  },
  "cells": [
    {
      "cell_type": "markdown",
      "metadata": {
        "id": "view-in-github",
        "colab_type": "text"
      },
      "source": [
        "<a href=\"https://colab.research.google.com/github/sahilsait/synthetic-EHR-data-generation/blob/main/CS271_final_project_preprocessing.ipynb\" target=\"_parent\"><img src=\"https://colab.research.google.com/assets/colab-badge.svg\" alt=\"Open In Colab\"/></a>"
      ]
    },
    {
      "cell_type": "code",
      "execution_count": null,
      "metadata": {
        "id": "j2aIG4exu1OU",
        "colab": {
          "base_uri": "https://localhost:8080/"
        },
        "outputId": "e36d2716-8cbb-4a4d-a4b8-0254a1216222"
      },
      "outputs": [
        {
          "output_type": "stream",
          "name": "stdout",
          "text": [
            "Mounted at /content/drive\n"
          ]
        }
      ],
      "source": [
        "from google.colab import drive\n",
        "drive.mount('/content/drive')"
      ]
    },
    {
      "cell_type": "code",
      "source": [
        "import pandas as pd\n",
        "\n",
        "patients = pd.read_csv('/content/drive/MyDrive/datasets/csv/patients.csv', usecols=[\"Id\", \"BIRTHDATE\", \"RACE\", \"ETHNICITY\", \"MARITAL\", \"GENDER\"])\n",
        "conditions = pd.read_csv('/content/drive/MyDrive/datasets/csv/conditions.csv', usecols=[\"PATIENT\", \"DESCRIPTION\"])\n",
        "encounters = pd.read_csv('/content/drive/MyDrive/datasets/csv/encounters.csv', usecols=[\"START\", \"PATIENT\", \"ENCOUNTERCLASS\"])\n",
        "observations = pd.read_csv('/content/drive/MyDrive/datasets/csv/observations.csv', usecols=[\"PATIENT\", \"DESCRIPTION\", \"VALUE\", \"UNITS\"])"
      ],
      "metadata": {
        "id": "pqYnW4QEYzef"
      },
      "execution_count": null,
      "outputs": []
    },
    {
      "cell_type": "code",
      "source": [
        "from datetime import datetime\n",
        "\n",
        "patients = patients.rename(columns={\"Id\": \"PATIENT\"})\n",
        "patients[\"BIRTHDATE\"] = pd.to_datetime(patients[\"BIRTHDATE\"])\n",
        "patients[\"age\"] = ((pd.Timestamp(\"now\") - patients[\"BIRTHDATE\"]).dt.days / 365.25).astype(int)\n",
        "patients = patients.drop(columns=[\"BIRTHDATE\"])\n",
        "patients[\"MARITAL\"] = patients[\"MARITAL\"].fillna(\"Unknown\")"
      ],
      "metadata": {
        "id": "e2rufqEugW18"
      },
      "execution_count": null,
      "outputs": []
    },
    {
      "cell_type": "code",
      "source": [
        "encounters[\"START\"] = pd.to_datetime(encounters[\"START\"])\n",
        "encounter_counts = encounters.groupby(\"PATIENT\").size().reset_index(name=\"num_encounters\")\n",
        "\n",
        "# Get most recent encounter type\n",
        "last_encounter = encounters.sort_values(by=[\"PATIENT\", \"START\"]).groupby(\"PATIENT\").last().reset_index()\n",
        "last_encounter = last_encounter[[\"PATIENT\", \"ENCOUNTERCLASS\"]].rename(columns={\"ENCOUNTERCLASS\": \"last_encounter_type\"})\n",
        "\n",
        "encounter_features = encounter_counts.merge(last_encounter, on=\"PATIENT\", how=\"left\")"
      ],
      "metadata": {
        "id": "Igb2rRF6q3uT"
      },
      "execution_count": null,
      "outputs": []
    },
    {
      "cell_type": "code",
      "source": [
        "target_vitals = {\n",
        "    \"Body Mass Index\": \"kg/m2\",\n",
        "    \"Systolic Blood Pressure\": \"mm[Hg]\",\n",
        "    \"Heart rate\": \"/min\"\n",
        "}\n",
        "\n",
        "# Filter only valid unit rows\n",
        "obs_filtered = observations[\n",
        "    observations.apply(lambda row: row[\"DESCRIPTION\"] in target_vitals and row[\"UNITS\"] == target_vitals[row[\"DESCRIPTION\"]], axis=1)\n",
        "]\n",
        "\n",
        "# Get most recent value for each (patient, DESCRIPTION)\n",
        "latest_obs = (\n",
        "    obs_filtered.sort_values([\"PATIENT\", \"DESCRIPTION\"])\n",
        "    .drop_duplicates(subset=[\"PATIENT\", \"DESCRIPTION\"], keep=\"last\")\n",
        ")\n",
        "\n",
        "vital_pivot = latest_obs.pivot(index=\"PATIENT\", columns=\"DESCRIPTION\", values=\"VALUE\").reset_index()"
      ],
      "metadata": {
        "id": "p8CIjKCvq6A7"
      },
      "execution_count": null,
      "outputs": []
    },
    {
      "cell_type": "code",
      "source": [
        "obs_filtered.value_counts(\"DESCRIPTION\")"
      ],
      "metadata": {
        "colab": {
          "base_uri": "https://localhost:8080/",
          "height": 224
        },
        "id": "_jsw5lNhgrA9",
        "outputId": "812e368b-52a9-45ae-9c5c-1ecf1dd09276"
      },
      "execution_count": null,
      "outputs": [
        {
          "output_type": "execute_result",
          "data": {
            "text/plain": [
              "DESCRIPTION\n",
              "Systolic Blood Pressure    12963\n",
              "Heart rate                 12552\n",
              "Body Mass Index            11451\n",
              "Name: count, dtype: int64"
            ],
            "text/html": [
              "<div>\n",
              "<style scoped>\n",
              "    .dataframe tbody tr th:only-of-type {\n",
              "        vertical-align: middle;\n",
              "    }\n",
              "\n",
              "    .dataframe tbody tr th {\n",
              "        vertical-align: top;\n",
              "    }\n",
              "\n",
              "    .dataframe thead th {\n",
              "        text-align: right;\n",
              "    }\n",
              "</style>\n",
              "<table border=\"1\" class=\"dataframe\">\n",
              "  <thead>\n",
              "    <tr style=\"text-align: right;\">\n",
              "      <th></th>\n",
              "      <th>count</th>\n",
              "    </tr>\n",
              "    <tr>\n",
              "      <th>DESCRIPTION</th>\n",
              "      <th></th>\n",
              "    </tr>\n",
              "  </thead>\n",
              "  <tbody>\n",
              "    <tr>\n",
              "      <th>Systolic Blood Pressure</th>\n",
              "      <td>12963</td>\n",
              "    </tr>\n",
              "    <tr>\n",
              "      <th>Heart rate</th>\n",
              "      <td>12552</td>\n",
              "    </tr>\n",
              "    <tr>\n",
              "      <th>Body Mass Index</th>\n",
              "      <td>11451</td>\n",
              "    </tr>\n",
              "  </tbody>\n",
              "</table>\n",
              "</div><br><label><b>dtype:</b> int64</label>"
            ]
          },
          "metadata": {},
          "execution_count": 6
        }
      ]
    },
    {
      "cell_type": "code",
      "source": [
        "print(len(patients))\n",
        "print(len(conditions))\n",
        "print(len(observations))\n",
        "print(len(encounters))"
      ],
      "metadata": {
        "colab": {
          "base_uri": "https://localhost:8080/"
        },
        "id": "MHJdiXN6aKm_",
        "outputId": "81251094-4bed-4a93-a44a-175dddae80e3"
      },
      "execution_count": null,
      "outputs": [
        {
          "output_type": "stream",
          "name": "stdout",
          "text": [
            "1171\n",
            "8376\n",
            "299697\n",
            "53346\n"
          ]
        }
      ]
    },
    {
      "cell_type": "code",
      "source": [
        "df = patients.merge(conditions, on=\"PATIENT\", how=\"left\")\n",
        "df = df.merge(encounter_features, on=\"PATIENT\", how=\"left\")\n",
        "df = df.merge(vital_pivot, on=\"PATIENT\", how=\"left\")"
      ],
      "metadata": {
        "id": "NzzGyOSTq8Le"
      },
      "execution_count": null,
      "outputs": []
    },
    {
      "cell_type": "code",
      "source": [
        "df.info()"
      ],
      "metadata": {
        "colab": {
          "base_uri": "https://localhost:8080/"
        },
        "id": "oRClPanYqFkr",
        "outputId": "72b8c6f2-8cfc-4b70-bdda-cb7ca1830a45"
      },
      "execution_count": null,
      "outputs": [
        {
          "output_type": "stream",
          "name": "stdout",
          "text": [
            "<class 'pandas.core.frame.DataFrame'>\n",
            "RangeIndex: 8395 entries, 0 to 8394\n",
            "Data columns (total 12 columns):\n",
            " #   Column                   Non-Null Count  Dtype \n",
            "---  ------                   --------------  ----- \n",
            " 0   PATIENT                  8395 non-null   object\n",
            " 1   MARITAL                  8395 non-null   object\n",
            " 2   RACE                     8395 non-null   object\n",
            " 3   ETHNICITY                8395 non-null   object\n",
            " 4   GENDER                   8395 non-null   object\n",
            " 5   age                      8395 non-null   int64 \n",
            " 6   DESCRIPTION              8376 non-null   object\n",
            " 7   num_encounters           8395 non-null   int64 \n",
            " 8   last_encounter_type      8395 non-null   object\n",
            " 9   Body Mass Index          8327 non-null   object\n",
            " 10  Heart rate               8395 non-null   object\n",
            " 11  Systolic Blood Pressure  8395 non-null   object\n",
            "dtypes: int64(2), object(10)\n",
            "memory usage: 787.2+ KB\n"
          ]
        }
      ]
    },
    {
      "cell_type": "code",
      "source": [
        "df = df.rename(columns={\"Body Mass Index\": \"body_mass_index\", \"Heart rate\": \"heart_rate\", \"Systolic Blood Pressure\": \"systolic_blood_pressure\"})"
      ],
      "metadata": {
        "id": "hJVI_r032xmf"
      },
      "execution_count": null,
      "outputs": []
    },
    {
      "cell_type": "code",
      "source": [
        "df = df.dropna(subset=[\"DESCRIPTION\", \"body_mass_index\"], how=\"any\")"
      ],
      "metadata": {
        "id": "Vflax5CHi5Xq"
      },
      "execution_count": null,
      "outputs": []
    },
    {
      "cell_type": "code",
      "source": [
        "cols = [shape of X: (8322, 152)]\n",
        "df[cols] = df[cols].apply(pd.to_numeric, errors=\"coerce\")\n",
        "df.info()"
      ],
      "metadata": {
        "colab": {
          "base_uri": "https://localhost:8080/"
        },
        "id": "FV9-Gt6fi_5G",
        "outputId": "dc33c4e6-cb9f-4cee-8d6a-8489bb845e3a"
      },
      "execution_count": null,
      "outputs": [
        {
          "output_type": "stream",
          "name": "stdout",
          "text": [
            "<class 'pandas.core.frame.DataFrame'>\n",
            "Index: 8322 entries, 0 to 8394\n",
            "Data columns (total 12 columns):\n",
            " #   Column                   Non-Null Count  Dtype  \n",
            "---  ------                   --------------  -----  \n",
            " 0   PATIENT                  8322 non-null   object \n",
            " 1   MARITAL                  8322 non-null   object \n",
            " 2   RACE                     8322 non-null   object \n",
            " 3   ETHNICITY                8322 non-null   object \n",
            " 4   GENDER                   8322 non-null   object \n",
            " 5   age                      8322 non-null   int64  \n",
            " 6   DESCRIPTION              8322 non-null   object \n",
            " 7   num_encounters           8322 non-null   int64  \n",
            " 8   last_encounter_type      8322 non-null   object \n",
            " 9   body_mass_index          8322 non-null   float64\n",
            " 10  heart_rate               8322 non-null   float64\n",
            " 11  systolic_blood_pressure  8322 non-null   float64\n",
            "dtypes: float64(3), int64(2), object(7)\n",
            "memory usage: 845.2+ KB\n"
          ]
        },
        {
          "output_type": "stream",
          "name": "stderr",
          "text": [
            "<ipython-input-13-48d65b33920a>:2: SettingWithCopyWarning: \n",
            "A value is trying to be set on a copy of a slice from a DataFrame.\n",
            "Try using .loc[row_indexer,col_indexer] = value instead\n",
            "\n",
            "See the caveats in the documentation: https://pandas.pydata.org/pandas-docs/stable/user_guide/indexing.html#returning-a-view-versus-a-copy\n",
            "  df[cols] = df[cols].apply(pd.to_numeric, errors=\"coerce\")\n"
          ]
        }
      ]
    },
    {
      "cell_type": "code",
      "source": [
        "df = df.drop(columns=['PATIENT'])\n",
        "df.to_csv(\"/content/drive/MyDrive/datasets/ehr_clean.csv\", index=False)"
      ],
      "metadata": {
        "id": "uITU4PL9q-ac"
      },
      "execution_count": null,
      "outputs": []
    },
    {
      "cell_type": "code",
      "source": [
        "df.info()"
      ],
      "metadata": {
        "colab": {
          "base_uri": "https://localhost:8080/"
        },
        "id": "Zn3oiWtw3jLA",
        "outputId": "817dea3a-2c32-4976-c2aa-1f56a69f56a3"
      },
      "execution_count": null,
      "outputs": [
        {
          "output_type": "stream",
          "name": "stdout",
          "text": [
            "<class 'pandas.core.frame.DataFrame'>\n",
            "Index: 8322 entries, 0 to 8394\n",
            "Data columns (total 11 columns):\n",
            " #   Column                   Non-Null Count  Dtype  \n",
            "---  ------                   --------------  -----  \n",
            " 0   MARITAL                  8322 non-null   object \n",
            " 1   RACE                     8322 non-null   object \n",
            " 2   ETHNICITY                8322 non-null   object \n",
            " 3   GENDER                   8322 non-null   object \n",
            " 4   age                      8322 non-null   int64  \n",
            " 5   DESCRIPTION              8322 non-null   object \n",
            " 6   num_encounters           8322 non-null   int64  \n",
            " 7   last_encounter_type      8322 non-null   object \n",
            " 8   body_mass_index          8322 non-null   float64\n",
            " 9   heart_rate               8322 non-null   float64\n",
            " 10  systolic_blood_pressure  8322 non-null   float64\n",
            "dtypes: float64(3), int64(2), object(6)\n",
            "memory usage: 780.2+ KB\n"
          ]
        }
      ]
    }
  ]
}